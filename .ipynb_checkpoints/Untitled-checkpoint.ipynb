{
 "cells": [
  {
   "cell_type": "markdown",
   "id": "b0e0f584",
   "metadata": {},
   "source": [
    "### Задача 1\n",
    "Известно, что генеральная совокупность распределена нормально со средним квадратическим отклонением, равным 16. Найти доверительный интервал для оценки математического ожидания a с надежностью 0.95, если выборочная средняя M = 80, а объем выборки n = 256.\n",
    "Общая формула для нахождения интервала для среднего арифметического \n",
    "▁x±z_(α/2) * σ/√n при известной σ генеральной совокупности\n",
    "\n"
   ]
  },
  {
   "cell_type": "code",
   "execution_count": 3,
   "id": "0b2f193b",
   "metadata": {},
   "outputs": [
    {
     "data": {
      "text/plain": [
       "(78.04003601545995, 81.95996398454005)"
      ]
     },
     "execution_count": 3,
     "metadata": {},
     "output_type": "execute_result"
    }
   ],
   "source": [
    "\n",
    "import scipy.stats as stats\n",
    "\n",
    "sigma = 16\n",
    "alfa = (1-0.95)/2\n",
    "mu = 80\n",
    "n= 256\n",
    "z= stats.norm.ppf(1-alfa)\n",
    "mu-z*(sigma/n**0.5),mu+z*(sigma/n**0.5)"
   ]
  },
  {
   "cell_type": "markdown",
   "id": "fcd028c5",
   "metadata": {},
   "source": [
    "Доверительный интервал (78.04,81.96)"
   ]
  },
  {
   "cell_type": "markdown",
   "id": "1b76a24c",
   "metadata": {},
   "source": [
    "### Задача 2\n",
    "В результате 10 независимых измерений некоторой величины X, выполненных с одинаковой точностью, получены опытные данные:\n",
    "6.9, 6.1, 6.2, 6.8, 7.5, 6.3, 6.4, 6.9, 6.7, 6.1\n",
    "\n",
    "Предполагая, что результаты измерений подчинены нормальному закону распределения вероятностей, оценить истинное значение величины X при помощи доверительного интервала, покрывающего это значение с доверительной вероятностью 0,95.\n"
   ]
  },
  {
   "cell_type": "code",
   "execution_count": 5,
   "id": "856d4a56",
   "metadata": {},
   "outputs": [
    {
     "data": {
      "text/plain": [
       "(6.267515851415713, 6.912484148584288)"
      ]
     },
     "execution_count": 5,
     "metadata": {},
     "output_type": "execute_result"
    }
   ],
   "source": [
    "\n",
    "x = np.array([6.9, 6.1, 6.2, 6.8, 7.5, 6.3, 6.4, 6.9, 6.7, 6.1])\n",
    "m = x.mean()\n",
    "d = x.var(ddof=1)\n",
    "t = stats.t.ppf(0.975, 9)\n",
    "m - t * (D / 10)**0.5, M + t * (D / 10)**0.5"
   ]
  },
  {
   "cell_type": "markdown",
   "id": "af70b179",
   "metadata": {},
   "source": [
    "### Задача 3\n",
    "\n",
    "Рост дочерей 175, 167, 154, 174, 178, 148, 160, 167, 169, 170\n",
    "Рост матерей  178, 165, 165, 173, 168, 155, 160, 164, 178, 175\n",
    "Используя эти данные построить 95% доверительный интервал для разности среднего роста родителей и детей."
   ]
  },
  {
   "cell_type": "code",
   "execution_count": 8,
   "id": "8bea07e2",
   "metadata": {},
   "outputs": [
    {
     "data": {
      "text/plain": [
       "(-10.068418034506857, 6.268418034506846)"
      ]
     },
     "execution_count": 8,
     "metadata": {},
     "output_type": "execute_result"
    }
   ],
   "source": [
    "x = np.array([175, 167, 154, 174, 178, 148, 160, 167, 169, 170])\n",
    "y = np.array([178, 165, 165, 173, 168, 155, 160, 164, 178, 175])\n",
    "delta = x.mean() - y.mean()\n",
    "d = (x.var(ddof=1) + y.var(ddof=1)) / 2\n",
    "se = (d / len(x) + d / len(y))**0.5\n",
    "t = stats.t.ppf(0.975, (len(x) - 1) * 2)\n",
    "delta - t * se, delta + t * se"
   ]
  },
  {
   "cell_type": "code",
   "execution_count": null,
   "id": "b5f83c51",
   "metadata": {},
   "outputs": [],
   "source": []
  }
 ],
 "metadata": {
  "kernelspec": {
   "display_name": "Python 3 (ipykernel)",
   "language": "python",
   "name": "python3"
  },
  "language_info": {
   "codemirror_mode": {
    "name": "ipython",
    "version": 3
   },
   "file_extension": ".py",
   "mimetype": "text/x-python",
   "name": "python",
   "nbconvert_exporter": "python",
   "pygments_lexer": "ipython3",
   "version": "3.9.13"
  }
 },
 "nbformat": 4,
 "nbformat_minor": 5
}
